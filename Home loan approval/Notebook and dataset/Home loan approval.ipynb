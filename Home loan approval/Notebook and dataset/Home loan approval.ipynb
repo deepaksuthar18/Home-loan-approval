{
 "cells": [
  {
   "cell_type": "code",
   "execution_count": 5,
   "id": "801d3aeb-4c2c-4954-a19b-4f2671fc24d8",
   "metadata": {},
   "outputs": [],
   "source": [
    "import pandas as pd \n",
    "import numpy as np\n",
    "import seaborn as sns\n",
    "import matplotlib.pyplot as plt\n",
    "from sklearn.preprocessing import LabelEncoder\n",
    "from sklearn import preprocessing\n",
    "from sklearn.model_selection import train_test_split\n",
    "from sklearn.preprocessing import StandardScaler\n",
    "from sklearn.metrics import accuracy_score"
   ]
  },
  {
   "cell_type": "markdown",
   "id": "60284e86-1274-44d6-b2dd-3a5d1bae73a8",
   "metadata": {},
   "source": [
    "# Import Data Set"
   ]
  },
  {
   "cell_type": "code",
   "execution_count": 6,
   "id": "0b65decd-8e3c-4ce2-96da-ef022b8d8aec",
   "metadata": {},
   "outputs": [
    {
     "data": {
      "text/html": [
       "<div>\n",
       "<style scoped>\n",
       "    .dataframe tbody tr th:only-of-type {\n",
       "        vertical-align: middle;\n",
       "    }\n",
       "\n",
       "    .dataframe tbody tr th {\n",
       "        vertical-align: top;\n",
       "    }\n",
       "\n",
       "    .dataframe thead th {\n",
       "        text-align: right;\n",
       "    }\n",
       "</style>\n",
       "<table border=\"1\" class=\"dataframe\">\n",
       "  <thead>\n",
       "    <tr style=\"text-align: right;\">\n",
       "      <th></th>\n",
       "      <th>loan_id</th>\n",
       "      <th>no_of_dependents</th>\n",
       "      <th>education</th>\n",
       "      <th>self_employed</th>\n",
       "      <th>income_annum</th>\n",
       "      <th>loan_amount</th>\n",
       "      <th>loan_term</th>\n",
       "      <th>cibil_score</th>\n",
       "      <th>residential_assets_value</th>\n",
       "      <th>commercial_assets_value</th>\n",
       "      <th>luxury_assets_value</th>\n",
       "      <th>bank_asset_value</th>\n",
       "      <th>loan_status</th>\n",
       "    </tr>\n",
       "  </thead>\n",
       "  <tbody>\n",
       "    <tr>\n",
       "      <th>0</th>\n",
       "      <td>1</td>\n",
       "      <td>2</td>\n",
       "      <td>Graduate</td>\n",
       "      <td>No</td>\n",
       "      <td>9600000</td>\n",
       "      <td>29900000</td>\n",
       "      <td>12</td>\n",
       "      <td>778</td>\n",
       "      <td>2400000</td>\n",
       "      <td>17600000</td>\n",
       "      <td>22700000</td>\n",
       "      <td>8000000</td>\n",
       "      <td>Approved</td>\n",
       "    </tr>\n",
       "    <tr>\n",
       "      <th>1</th>\n",
       "      <td>2</td>\n",
       "      <td>0</td>\n",
       "      <td>Not Graduate</td>\n",
       "      <td>Yes</td>\n",
       "      <td>4100000</td>\n",
       "      <td>12200000</td>\n",
       "      <td>8</td>\n",
       "      <td>417</td>\n",
       "      <td>2700000</td>\n",
       "      <td>2200000</td>\n",
       "      <td>8800000</td>\n",
       "      <td>3300000</td>\n",
       "      <td>Rejected</td>\n",
       "    </tr>\n",
       "    <tr>\n",
       "      <th>2</th>\n",
       "      <td>3</td>\n",
       "      <td>3</td>\n",
       "      <td>Graduate</td>\n",
       "      <td>No</td>\n",
       "      <td>9100000</td>\n",
       "      <td>29700000</td>\n",
       "      <td>20</td>\n",
       "      <td>506</td>\n",
       "      <td>7100000</td>\n",
       "      <td>4500000</td>\n",
       "      <td>33300000</td>\n",
       "      <td>12800000</td>\n",
       "      <td>Rejected</td>\n",
       "    </tr>\n",
       "    <tr>\n",
       "      <th>3</th>\n",
       "      <td>4</td>\n",
       "      <td>3</td>\n",
       "      <td>Graduate</td>\n",
       "      <td>No</td>\n",
       "      <td>8200000</td>\n",
       "      <td>30700000</td>\n",
       "      <td>8</td>\n",
       "      <td>467</td>\n",
       "      <td>18200000</td>\n",
       "      <td>3300000</td>\n",
       "      <td>23300000</td>\n",
       "      <td>7900000</td>\n",
       "      <td>Rejected</td>\n",
       "    </tr>\n",
       "    <tr>\n",
       "      <th>4</th>\n",
       "      <td>5</td>\n",
       "      <td>5</td>\n",
       "      <td>Not Graduate</td>\n",
       "      <td>Yes</td>\n",
       "      <td>9800000</td>\n",
       "      <td>24200000</td>\n",
       "      <td>20</td>\n",
       "      <td>382</td>\n",
       "      <td>12400000</td>\n",
       "      <td>8200000</td>\n",
       "      <td>29400000</td>\n",
       "      <td>5000000</td>\n",
       "      <td>Rejected</td>\n",
       "    </tr>\n",
       "  </tbody>\n",
       "</table>\n",
       "</div>"
      ],
      "text/plain": [
       "   loan_id   no_of_dependents      education  self_employed   income_annum  \\\n",
       "0        1                  2       Graduate             No        9600000   \n",
       "1        2                  0   Not Graduate            Yes        4100000   \n",
       "2        3                  3       Graduate             No        9100000   \n",
       "3        4                  3       Graduate             No        8200000   \n",
       "4        5                  5   Not Graduate            Yes        9800000   \n",
       "\n",
       "    loan_amount   loan_term   cibil_score   residential_assets_value  \\\n",
       "0      29900000          12           778                    2400000   \n",
       "1      12200000           8           417                    2700000   \n",
       "2      29700000          20           506                    7100000   \n",
       "3      30700000           8           467                   18200000   \n",
       "4      24200000          20           382                   12400000   \n",
       "\n",
       "    commercial_assets_value   luxury_assets_value   bank_asset_value  \\\n",
       "0                  17600000              22700000            8000000   \n",
       "1                   2200000               8800000            3300000   \n",
       "2                   4500000              33300000           12800000   \n",
       "3                   3300000              23300000            7900000   \n",
       "4                   8200000              29400000            5000000   \n",
       "\n",
       "   loan_status  \n",
       "0     Approved  \n",
       "1     Rejected  \n",
       "2     Rejected  \n",
       "3     Rejected  \n",
       "4     Rejected  "
      ]
     },
     "execution_count": 6,
     "metadata": {},
     "output_type": "execute_result"
    }
   ],
   "source": [
    "df = pd.read_csv(\"loan_approval_dataset.csv\")\n",
    "df.head()"
   ]
  },
  {
   "cell_type": "code",
   "execution_count": 33,
   "id": "5203342d-906c-4762-b3fb-236661647be2",
   "metadata": {},
   "outputs": [
    {
     "name": "stdout",
     "output_type": "stream",
     "text": [
      "Index(['Loan_ID', 'No_of_Dependents', 'Education', 'Self_Employed',\n",
      "       'Annual_Income', 'Loan_Amount', 'Loan_Term', 'CIBIL_Score',\n",
      "       'Residential_Assets_Value', 'Commercial_Assets_Value',\n",
      "       'Luxury_Assets_Value', 'Bank_Asset_Value', 'Loan_Status'],\n",
      "      dtype='object')\n"
     ]
    }
   ],
   "source": [
    "df.rename(columns=lambda x: x.strip(), inplace=True)  # Remove extra spaces if any\n",
    "\n",
    "df.rename(columns={\n",
    "    'loan_id': 'Loan_ID',\n",
    "    'no_of_dependents': 'No_of_Dependents',\n",
    "    'education': 'Education',\n",
    "    'self_employed': 'Self_Employed',\n",
    "    'income_annum': 'Annual_Income',\n",
    "    'loan_amount': 'Loan_Amount',\n",
    "    'loan_term': 'Loan_Term',\n",
    "    'cibil_score': 'CIBIL_Score',\n",
    "    'residential_assets_value': 'Residential_Assets_Value',\n",
    "    'commercial_assets_value': 'Commercial_Assets_Value',\n",
    "    'luxury_assets_value': 'Luxury_Assets_Value',\n",
    "    'bank_asset_value': 'Bank_Asset_Value',\n",
    "    'loan_status': 'Loan_Status'\n",
    "}, inplace=True)\n",
    "\n",
    "print(df.columns)  # Verify the changes\n"
   ]
  },
  {
   "cell_type": "code",
   "execution_count": 34,
   "id": "4b50689f-d5e0-4cc7-831f-df769e8d2335",
   "metadata": {},
   "outputs": [
    {
     "data": {
      "text/html": [
       "<div>\n",
       "<style scoped>\n",
       "    .dataframe tbody tr th:only-of-type {\n",
       "        vertical-align: middle;\n",
       "    }\n",
       "\n",
       "    .dataframe tbody tr th {\n",
       "        vertical-align: top;\n",
       "    }\n",
       "\n",
       "    .dataframe thead th {\n",
       "        text-align: right;\n",
       "    }\n",
       "</style>\n",
       "<table border=\"1\" class=\"dataframe\">\n",
       "  <thead>\n",
       "    <tr style=\"text-align: right;\">\n",
       "      <th></th>\n",
       "      <th>Loan_ID</th>\n",
       "      <th>No_of_Dependents</th>\n",
       "      <th>Education</th>\n",
       "      <th>Self_Employed</th>\n",
       "      <th>Annual_Income</th>\n",
       "      <th>Loan_Amount</th>\n",
       "      <th>Loan_Term</th>\n",
       "      <th>CIBIL_Score</th>\n",
       "      <th>Residential_Assets_Value</th>\n",
       "      <th>Commercial_Assets_Value</th>\n",
       "      <th>Luxury_Assets_Value</th>\n",
       "      <th>Bank_Asset_Value</th>\n",
       "      <th>Loan_Status</th>\n",
       "    </tr>\n",
       "  </thead>\n",
       "  <tbody>\n",
       "    <tr>\n",
       "      <th>0</th>\n",
       "      <td>1</td>\n",
       "      <td>2</td>\n",
       "      <td>Graduate</td>\n",
       "      <td>No</td>\n",
       "      <td>9600000</td>\n",
       "      <td>29900000</td>\n",
       "      <td>12</td>\n",
       "      <td>778</td>\n",
       "      <td>2400000</td>\n",
       "      <td>17600000</td>\n",
       "      <td>22700000</td>\n",
       "      <td>8000000</td>\n",
       "      <td>Approved</td>\n",
       "    </tr>\n",
       "    <tr>\n",
       "      <th>1</th>\n",
       "      <td>2</td>\n",
       "      <td>0</td>\n",
       "      <td>Not Graduate</td>\n",
       "      <td>Yes</td>\n",
       "      <td>4100000</td>\n",
       "      <td>12200000</td>\n",
       "      <td>8</td>\n",
       "      <td>417</td>\n",
       "      <td>2700000</td>\n",
       "      <td>2200000</td>\n",
       "      <td>8800000</td>\n",
       "      <td>3300000</td>\n",
       "      <td>Rejected</td>\n",
       "    </tr>\n",
       "    <tr>\n",
       "      <th>2</th>\n",
       "      <td>3</td>\n",
       "      <td>3</td>\n",
       "      <td>Graduate</td>\n",
       "      <td>No</td>\n",
       "      <td>9100000</td>\n",
       "      <td>29700000</td>\n",
       "      <td>20</td>\n",
       "      <td>506</td>\n",
       "      <td>7100000</td>\n",
       "      <td>4500000</td>\n",
       "      <td>33300000</td>\n",
       "      <td>12800000</td>\n",
       "      <td>Rejected</td>\n",
       "    </tr>\n",
       "    <tr>\n",
       "      <th>3</th>\n",
       "      <td>4</td>\n",
       "      <td>3</td>\n",
       "      <td>Graduate</td>\n",
       "      <td>No</td>\n",
       "      <td>8200000</td>\n",
       "      <td>30700000</td>\n",
       "      <td>8</td>\n",
       "      <td>467</td>\n",
       "      <td>18200000</td>\n",
       "      <td>3300000</td>\n",
       "      <td>23300000</td>\n",
       "      <td>7900000</td>\n",
       "      <td>Rejected</td>\n",
       "    </tr>\n",
       "    <tr>\n",
       "      <th>4</th>\n",
       "      <td>5</td>\n",
       "      <td>5</td>\n",
       "      <td>Not Graduate</td>\n",
       "      <td>Yes</td>\n",
       "      <td>9800000</td>\n",
       "      <td>24200000</td>\n",
       "      <td>20</td>\n",
       "      <td>382</td>\n",
       "      <td>12400000</td>\n",
       "      <td>8200000</td>\n",
       "      <td>29400000</td>\n",
       "      <td>5000000</td>\n",
       "      <td>Rejected</td>\n",
       "    </tr>\n",
       "  </tbody>\n",
       "</table>\n",
       "</div>"
      ],
      "text/plain": [
       "   Loan_ID  No_of_Dependents      Education Self_Employed  Annual_Income  \\\n",
       "0        1                 2       Graduate            No        9600000   \n",
       "1        2                 0   Not Graduate           Yes        4100000   \n",
       "2        3                 3       Graduate            No        9100000   \n",
       "3        4                 3       Graduate            No        8200000   \n",
       "4        5                 5   Not Graduate           Yes        9800000   \n",
       "\n",
       "   Loan_Amount  Loan_Term  CIBIL_Score  Residential_Assets_Value  \\\n",
       "0     29900000         12          778                   2400000   \n",
       "1     12200000          8          417                   2700000   \n",
       "2     29700000         20          506                   7100000   \n",
       "3     30700000          8          467                  18200000   \n",
       "4     24200000         20          382                  12400000   \n",
       "\n",
       "   Commercial_Assets_Value  Luxury_Assets_Value  Bank_Asset_Value Loan_Status  \n",
       "0                 17600000             22700000           8000000    Approved  \n",
       "1                  2200000              8800000           3300000    Rejected  \n",
       "2                  4500000             33300000          12800000    Rejected  \n",
       "3                  3300000             23300000           7900000    Rejected  \n",
       "4                  8200000             29400000           5000000    Rejected  "
      ]
     },
     "execution_count": 34,
     "metadata": {},
     "output_type": "execute_result"
    }
   ],
   "source": [
    "df.head()"
   ]
  },
  {
   "cell_type": "code",
   "execution_count": 35,
   "id": "3b145a17-fd56-4dfa-980b-c1175bad3eec",
   "metadata": {},
   "outputs": [
    {
     "name": "stdout",
     "output_type": "stream",
     "text": [
      "Categorical variables: 3\n"
     ]
    }
   ],
   "source": [
    "obj = (df.dtypes == 'object')\n",
    "print(\"Categorical variables:\",len(list(obj[obj].index)))"
   ]
  },
  {
   "cell_type": "code",
   "execution_count": 36,
   "id": "a73c709c-3d98-4d5a-a977-80c7b391afc4",
   "metadata": {},
   "outputs": [],
   "source": [
    "df.columns = df.columns.str.strip()"
   ]
  },
  {
   "cell_type": "code",
   "execution_count": 37,
   "id": "aae8eb22-45cb-402a-a9d8-74e14b2f7a3e",
   "metadata": {},
   "outputs": [
    {
     "data": {
      "text/plain": [
       "(4269, 13)"
      ]
     },
     "execution_count": 37,
     "metadata": {},
     "output_type": "execute_result"
    }
   ],
   "source": [
    "df.shape"
   ]
  },
  {
   "cell_type": "code",
   "execution_count": 38,
   "id": "8e745058-e21d-4f5f-82c5-70e219317b08",
   "metadata": {},
   "outputs": [
    {
     "data": {
      "text/plain": [
       "Loan_ID                     0\n",
       "No_of_Dependents            0\n",
       "Education                   0\n",
       "Self_Employed               0\n",
       "Annual_Income               0\n",
       "Loan_Amount                 0\n",
       "Loan_Term                   0\n",
       "CIBIL_Score                 0\n",
       "Residential_Assets_Value    0\n",
       "Commercial_Assets_Value     0\n",
       "Luxury_Assets_Value         0\n",
       "Bank_Asset_Value            0\n",
       "Loan_Status                 0\n",
       "dtype: int64"
      ]
     },
     "execution_count": 38,
     "metadata": {},
     "output_type": "execute_result"
    }
   ],
   "source": [
    "df.isnull().sum()"
   ]
  },
  {
   "cell_type": "code",
   "execution_count": 39,
   "id": "139c2322-b2e8-4f54-b858-8ec4938c46e2",
   "metadata": {},
   "outputs": [
    {
     "name": "stdout",
     "output_type": "stream",
     "text": [
      "<class 'pandas.core.frame.DataFrame'>\n",
      "RangeIndex: 4269 entries, 0 to 4268\n",
      "Data columns (total 13 columns):\n",
      " #   Column                    Non-Null Count  Dtype \n",
      "---  ------                    --------------  ----- \n",
      " 0   Loan_ID                   4269 non-null   int64 \n",
      " 1   No_of_Dependents          4269 non-null   int64 \n",
      " 2   Education                 4269 non-null   object\n",
      " 3   Self_Employed             4269 non-null   object\n",
      " 4   Annual_Income             4269 non-null   int64 \n",
      " 5   Loan_Amount               4269 non-null   int64 \n",
      " 6   Loan_Term                 4269 non-null   int64 \n",
      " 7   CIBIL_Score               4269 non-null   int64 \n",
      " 8   Residential_Assets_Value  4269 non-null   int64 \n",
      " 9   Commercial_Assets_Value   4269 non-null   int64 \n",
      " 10  Luxury_Assets_Value       4269 non-null   int64 \n",
      " 11  Bank_Asset_Value          4269 non-null   int64 \n",
      " 12  Loan_Status               4269 non-null   object\n",
      "dtypes: int64(10), object(3)\n",
      "memory usage: 433.7+ KB\n"
     ]
    }
   ],
   "source": [
    "df.info()\n"
   ]
  },
  {
   "cell_type": "code",
   "execution_count": 40,
   "id": "f761c052-0571-4e6c-97fb-4485c6c6a516",
   "metadata": {},
   "outputs": [
    {
     "data": {
      "text/html": [
       "<div>\n",
       "<style scoped>\n",
       "    .dataframe tbody tr th:only-of-type {\n",
       "        vertical-align: middle;\n",
       "    }\n",
       "\n",
       "    .dataframe tbody tr th {\n",
       "        vertical-align: top;\n",
       "    }\n",
       "\n",
       "    .dataframe thead th {\n",
       "        text-align: right;\n",
       "    }\n",
       "</style>\n",
       "<table border=\"1\" class=\"dataframe\">\n",
       "  <thead>\n",
       "    <tr style=\"text-align: right;\">\n",
       "      <th></th>\n",
       "      <th>Education</th>\n",
       "      <th>Self_Employed</th>\n",
       "      <th>Loan_Status</th>\n",
       "    </tr>\n",
       "  </thead>\n",
       "  <tbody>\n",
       "    <tr>\n",
       "      <th>0</th>\n",
       "      <td>Graduate</td>\n",
       "      <td>No</td>\n",
       "      <td>Approved</td>\n",
       "    </tr>\n",
       "    <tr>\n",
       "      <th>1</th>\n",
       "      <td>Not Graduate</td>\n",
       "      <td>Yes</td>\n",
       "      <td>Rejected</td>\n",
       "    </tr>\n",
       "    <tr>\n",
       "      <th>2</th>\n",
       "      <td>Graduate</td>\n",
       "      <td>No</td>\n",
       "      <td>Rejected</td>\n",
       "    </tr>\n",
       "    <tr>\n",
       "      <th>3</th>\n",
       "      <td>Graduate</td>\n",
       "      <td>No</td>\n",
       "      <td>Rejected</td>\n",
       "    </tr>\n",
       "    <tr>\n",
       "      <th>4</th>\n",
       "      <td>Not Graduate</td>\n",
       "      <td>Yes</td>\n",
       "      <td>Rejected</td>\n",
       "    </tr>\n",
       "    <tr>\n",
       "      <th>...</th>\n",
       "      <td>...</td>\n",
       "      <td>...</td>\n",
       "      <td>...</td>\n",
       "    </tr>\n",
       "    <tr>\n",
       "      <th>4264</th>\n",
       "      <td>Graduate</td>\n",
       "      <td>Yes</td>\n",
       "      <td>Rejected</td>\n",
       "    </tr>\n",
       "    <tr>\n",
       "      <th>4265</th>\n",
       "      <td>Not Graduate</td>\n",
       "      <td>Yes</td>\n",
       "      <td>Approved</td>\n",
       "    </tr>\n",
       "    <tr>\n",
       "      <th>4266</th>\n",
       "      <td>Not Graduate</td>\n",
       "      <td>No</td>\n",
       "      <td>Rejected</td>\n",
       "    </tr>\n",
       "    <tr>\n",
       "      <th>4267</th>\n",
       "      <td>Not Graduate</td>\n",
       "      <td>No</td>\n",
       "      <td>Approved</td>\n",
       "    </tr>\n",
       "    <tr>\n",
       "      <th>4268</th>\n",
       "      <td>Graduate</td>\n",
       "      <td>No</td>\n",
       "      <td>Approved</td>\n",
       "    </tr>\n",
       "  </tbody>\n",
       "</table>\n",
       "<p>4269 rows × 3 columns</p>\n",
       "</div>"
      ],
      "text/plain": [
       "          Education Self_Employed Loan_Status\n",
       "0          Graduate            No    Approved\n",
       "1      Not Graduate           Yes    Rejected\n",
       "2          Graduate            No    Rejected\n",
       "3          Graduate            No    Rejected\n",
       "4      Not Graduate           Yes    Rejected\n",
       "...             ...           ...         ...\n",
       "4264       Graduate           Yes    Rejected\n",
       "4265   Not Graduate           Yes    Approved\n",
       "4266   Not Graduate            No    Rejected\n",
       "4267   Not Graduate            No    Approved\n",
       "4268       Graduate            No    Approved\n",
       "\n",
       "[4269 rows x 3 columns]"
      ]
     },
     "execution_count": 40,
     "metadata": {},
     "output_type": "execute_result"
    }
   ],
   "source": [
    "df[['Education', 'Self_Employed', 'Loan_Status']]"
   ]
  },
  {
   "cell_type": "markdown",
   "id": "a9298388-1891-4a45-b624-fe240c5d8f58",
   "metadata": {},
   "source": [
    "# Encoding Target Variable"
   ]
  },
  {
   "cell_type": "code",
   "execution_count": 41,
   "id": "903202e8-d8c2-4d9d-819e-b44290f5011f",
   "metadata": {},
   "outputs": [],
   "source": [
    "label_encoder = preprocessing.LabelEncoder()    # 0 is gradute and 1 is not gradute\n",
    "obj = (df.dtypes == 'object')                      # 0 is no and 1 is yes\n",
    "for col in list(obj[obj].index):                   # 0 is approved and 1 is rejected.\n",
    "  df[col] = label_encoder.fit_transform(df[col])    "
   ]
  },
  {
   "cell_type": "code",
   "execution_count": 42,
   "id": "f4351217-6f73-4970-9f5e-17a081ff3e87",
   "metadata": {},
   "outputs": [
    {
     "data": {
      "text/html": [
       "<div>\n",
       "<style scoped>\n",
       "    .dataframe tbody tr th:only-of-type {\n",
       "        vertical-align: middle;\n",
       "    }\n",
       "\n",
       "    .dataframe tbody tr th {\n",
       "        vertical-align: top;\n",
       "    }\n",
       "\n",
       "    .dataframe thead th {\n",
       "        text-align: right;\n",
       "    }\n",
       "</style>\n",
       "<table border=\"1\" class=\"dataframe\">\n",
       "  <thead>\n",
       "    <tr style=\"text-align: right;\">\n",
       "      <th></th>\n",
       "      <th>Education</th>\n",
       "      <th>Self_Employed</th>\n",
       "      <th>Loan_Status</th>\n",
       "    </tr>\n",
       "  </thead>\n",
       "  <tbody>\n",
       "    <tr>\n",
       "      <th>0</th>\n",
       "      <td>0</td>\n",
       "      <td>0</td>\n",
       "      <td>0</td>\n",
       "    </tr>\n",
       "    <tr>\n",
       "      <th>1</th>\n",
       "      <td>1</td>\n",
       "      <td>1</td>\n",
       "      <td>1</td>\n",
       "    </tr>\n",
       "    <tr>\n",
       "      <th>2</th>\n",
       "      <td>0</td>\n",
       "      <td>0</td>\n",
       "      <td>1</td>\n",
       "    </tr>\n",
       "    <tr>\n",
       "      <th>3</th>\n",
       "      <td>0</td>\n",
       "      <td>0</td>\n",
       "      <td>1</td>\n",
       "    </tr>\n",
       "    <tr>\n",
       "      <th>4</th>\n",
       "      <td>1</td>\n",
       "      <td>1</td>\n",
       "      <td>1</td>\n",
       "    </tr>\n",
       "    <tr>\n",
       "      <th>...</th>\n",
       "      <td>...</td>\n",
       "      <td>...</td>\n",
       "      <td>...</td>\n",
       "    </tr>\n",
       "    <tr>\n",
       "      <th>4264</th>\n",
       "      <td>0</td>\n",
       "      <td>1</td>\n",
       "      <td>1</td>\n",
       "    </tr>\n",
       "    <tr>\n",
       "      <th>4265</th>\n",
       "      <td>1</td>\n",
       "      <td>1</td>\n",
       "      <td>0</td>\n",
       "    </tr>\n",
       "    <tr>\n",
       "      <th>4266</th>\n",
       "      <td>1</td>\n",
       "      <td>0</td>\n",
       "      <td>1</td>\n",
       "    </tr>\n",
       "    <tr>\n",
       "      <th>4267</th>\n",
       "      <td>1</td>\n",
       "      <td>0</td>\n",
       "      <td>0</td>\n",
       "    </tr>\n",
       "    <tr>\n",
       "      <th>4268</th>\n",
       "      <td>0</td>\n",
       "      <td>0</td>\n",
       "      <td>0</td>\n",
       "    </tr>\n",
       "  </tbody>\n",
       "</table>\n",
       "<p>4269 rows × 3 columns</p>\n",
       "</div>"
      ],
      "text/plain": [
       "      Education  Self_Employed  Loan_Status\n",
       "0             0              0            0\n",
       "1             1              1            1\n",
       "2             0              0            1\n",
       "3             0              0            1\n",
       "4             1              1            1\n",
       "...         ...            ...          ...\n",
       "4264          0              1            1\n",
       "4265          1              1            0\n",
       "4266          1              0            1\n",
       "4267          1              0            0\n",
       "4268          0              0            0\n",
       "\n",
       "[4269 rows x 3 columns]"
      ]
     },
     "execution_count": 42,
     "metadata": {},
     "output_type": "execute_result"
    }
   ],
   "source": [
    "df[['Education', 'Self_Employed', 'Loan_Status']]"
   ]
  },
  {
   "cell_type": "markdown",
   "id": "1b96dda3-6185-49b2-ab24-002feca08f63",
   "metadata": {},
   "source": [
    "# Data visulization "
   ]
  },
  {
   "cell_type": "code",
   "execution_count": 43,
   "id": "bbaae111-f816-4b11-a690-af474240a19e",
   "metadata": {},
   "outputs": [
    {
     "data": {
      "image/png": "[encoded data removed]",
      "text/plain": [
       "<Figure size 400x200 with 1 Axes>"
      ]
     },
     "metadata": {},
     "output_type": "display_data"
    },
    {
     "data": {
      "image/png": "[encoded data removed]",
      "text/plain": [
       "<Figure size 600x400 with 1 Axes>"
      ]
     },
     "metadata": {},
     "output_type": "display_data"
    },
    {
     "data": {
      "image/png": "[encoded data removed]",
      "text/plain": [
       "<Figure size 600x400 with 1 Axes>"
      ]
     },
     "metadata": {},
     "output_type": "display_data"
    },
    {
     "data": {
      "text/plain": [
       "<Figure size 600x400 with 0 Axes>"
      ]
     },
     "metadata": {},
     "output_type": "display_data"
    },
    {
     "data": {
      "image/png": "[encoded data removed]",
      "text/plain": [
       "<Figure size 600x400 with 1 Axes>"
      ]
     },
     "metadata": {},
     "output_type": "display_data"
    },
    {
     "data": {
      "text/plain": [
       "<Figure size 600x400 with 0 Axes>"
      ]
     },
     "metadata": {},
     "output_type": "display_data"
    },
    {
     "data": {
      "image/png": "[encoded data removed]",
      "text/plain": [
       "<Figure size 640x480 with 1 Axes>"
      ]
     },
     "metadata": {},
     "output_type": "display_data"
    }
   ],
   "source": [
    "# Rename columns for clarity  \n",
    "df.columns = ['Loan_ID', 'No_of_Dependents', 'Education', 'Self_Employed', 'Annual_Income',  \n",
    "              'Loan_Amount', 'Loan_Term', 'CIBIL_Score', 'Residential_Assets_Value',  \n",
    "              'Commercial_Assets_Value', 'Luxury_Assets_Value', 'Bank_Asset_Value', 'Loan_Status']  \n",
    "\n",
    "# Loan Status Distribution (Bar Chart)  \n",
    "plt.figure(figsize=(4,2))  \n",
    "df['Loan_Status'].value_counts().plot(kind='bar', color=['green', 'red'])  \n",
    "plt.title('Loan Status Distribution')  \n",
    "plt.xlabel('Loan Status')  \n",
    "plt.ylabel('Count')  \n",
    "plt.xticks(rotation=0)  \n",
    "plt.show()  \n",
    "\n",
    "# Income vs Loan Amount (Scatter Plot)  \n",
    "plt.figure(figsize=(6,4))  \n",
    "plt.scatter(df['Annual_Income'], df['Loan_Amount'], color='blue', alpha=0.5)  \n",
    "plt.title('Annual Income vs Loan Amount')  \n",
    "plt.xlabel('Annual Income')  \n",
    "plt.ylabel('Loan Amount')  \n",
    "plt.show()  \n",
    "\n",
    "# CIBIL Score Distribution (Histogram)  \n",
    "plt.figure(figsize=(6,4))  \n",
    "plt.hist(df['CIBIL_Score'], bins=20, color='purple', edgecolor='black', alpha=0.7)  \n",
    "plt.title('CIBIL Score Distribution')  \n",
    "plt.xlabel('CIBIL Score')  \n",
    "plt.ylabel('Frequency')  \n",
    "plt.show()  \n",
    "\n",
    "# No. of Dependents vs Loan Status (Stacked Bar Chart)  \n",
    "plt.figure(figsize=(6,4))  \n",
    "pd.crosstab(df['No_of_Dependents'], df['Loan_Status']).plot(kind='bar', stacked=True, colormap='coolwarm', figsize=(6,4))  \n",
    "plt.title('No. of Dependents vs Loan Status')  \n",
    "plt.xlabel('No. of Dependents')  \n",
    "plt.ylabel('Count')  \n",
    "plt.legend(title=\"Loan Status\")  \n",
    "plt.show()  \n",
    "\n",
    "# Loan Amount by Loan Status (Box Plot)  \n",
    "plt.figure(figsize=(6,4))  \n",
    "df.boxplot(column='Loan_Amount', by='Loan_Status', grid=False, patch_artist=True)  \n",
    "plt.title('Loan Amount by Loan Status')  \n",
    "plt.xlabel('Loan Status')  \n",
    "plt.ylabel('Loan Amount')  \n",
    "plt.suptitle('')  \n",
    "plt.show()  "
   ]
  },
  {
   "cell_type": "markdown",
   "id": "96be8f31-fea5-4ca4-b423-74e64daa1e73",
   "metadata": {},
   "source": [
    "# Splitting Data into Training and Testing Sets"
   ]
  },
  {
   "cell_type": "code",
   "execution_count": 44,
   "id": "1775515e-9a44-40b5-97bf-7bf63c9c1a19",
   "metadata": {},
   "outputs": [],
   "source": [
    "X = df.drop(columns=['Loan_Status']) # All columns except target\n",
    "y = df['Loan_Status']  # Target variable"
   ]
  },
  {
   "cell_type": "code",
   "execution_count": 45,
   "id": "7ebcc696-ec50-4526-b5c3-960a386bc92a",
   "metadata": {},
   "outputs": [
    {
     "data": {
      "text/plain": [
       "(4269, 13)"
      ]
     },
     "execution_count": 45,
     "metadata": {},
     "output_type": "execute_result"
    }
   ],
   "source": [
    "df.shape"
   ]
  },
  {
   "cell_type": "code",
   "execution_count": 46,
   "id": "7f5f7a2a-68cc-4f39-b2e0-57cbec6490e8",
   "metadata": {},
   "outputs": [],
   "source": [
    "#df.columns"
   ]
  },
  {
   "cell_type": "code",
   "execution_count": 47,
   "id": "daf9a249-58c3-41e2-97e2-a1228c8d868b",
   "metadata": {},
   "outputs": [],
   "source": [
    "# Train-Test Split\n",
    "X_train, X_test, y_train, y_test = train_test_split(X, y, test_size=0.2, random_state=42)"
   ]
  },
  {
   "cell_type": "code",
   "execution_count": 48,
   "id": "f95060f4-3ce2-4fcb-a95e-8d711ec2339d",
   "metadata": {},
   "outputs": [],
   "source": [
    "# Apply StandardScaler only on numerical columns\n",
    "scaler = StandardScaler()\n",
    "X_train_scaled = scaler.fit_transform(X_train)  # Fit & transform training data\n",
    "X_test_scaled = scaler.transform(X_test)  # Transform test data"
   ]
  },
  {
   "cell_type": "code",
   "execution_count": 49,
   "id": "9045f021-403e-452d-ab48-7ec99193e738",
   "metadata": {},
   "outputs": [
    {
     "data": {
      "text/html": [
       "<div>\n",
       "<style scoped>\n",
       "    .dataframe tbody tr th:only-of-type {\n",
       "        vertical-align: middle;\n",
       "    }\n",
       "\n",
       "    .dataframe tbody tr th {\n",
       "        vertical-align: top;\n",
       "    }\n",
       "\n",
       "    .dataframe thead th {\n",
       "        text-align: right;\n",
       "    }\n",
       "</style>\n",
       "<table border=\"1\" class=\"dataframe\">\n",
       "  <thead>\n",
       "    <tr style=\"text-align: right;\">\n",
       "      <th></th>\n",
       "      <th>Loan_ID</th>\n",
       "      <th>No_of_Dependents</th>\n",
       "      <th>Education</th>\n",
       "      <th>Self_Employed</th>\n",
       "      <th>Annual_Income</th>\n",
       "      <th>Loan_Amount</th>\n",
       "      <th>Loan_Term</th>\n",
       "      <th>CIBIL_Score</th>\n",
       "      <th>Residential_Assets_Value</th>\n",
       "      <th>Commercial_Assets_Value</th>\n",
       "      <th>Luxury_Assets_Value</th>\n",
       "      <th>Bank_Asset_Value</th>\n",
       "    </tr>\n",
       "  </thead>\n",
       "  <tbody>\n",
       "    <tr>\n",
       "      <th>1675</th>\n",
       "      <td>1676</td>\n",
       "      <td>5</td>\n",
       "      <td>1</td>\n",
       "      <td>0</td>\n",
       "      <td>7900000</td>\n",
       "      <td>29900000</td>\n",
       "      <td>6</td>\n",
       "      <td>568</td>\n",
       "      <td>5800000</td>\n",
       "      <td>13900000</td>\n",
       "      <td>15900000</td>\n",
       "      <td>8700000</td>\n",
       "    </tr>\n",
       "    <tr>\n",
       "      <th>1164</th>\n",
       "      <td>1165</td>\n",
       "      <td>0</td>\n",
       "      <td>1</td>\n",
       "      <td>1</td>\n",
       "      <td>9600000</td>\n",
       "      <td>34000000</td>\n",
       "      <td>12</td>\n",
       "      <td>710</td>\n",
       "      <td>23800000</td>\n",
       "      <td>10300000</td>\n",
       "      <td>38100000</td>\n",
       "      <td>7800000</td>\n",
       "    </tr>\n",
       "    <tr>\n",
       "      <th>192</th>\n",
       "      <td>193</td>\n",
       "      <td>1</td>\n",
       "      <td>0</td>\n",
       "      <td>0</td>\n",
       "      <td>800000</td>\n",
       "      <td>2900000</td>\n",
       "      <td>8</td>\n",
       "      <td>682</td>\n",
       "      <td>2200000</td>\n",
       "      <td>1100000</td>\n",
       "      <td>2900000</td>\n",
       "      <td>700000</td>\n",
       "    </tr>\n",
       "    <tr>\n",
       "      <th>910</th>\n",
       "      <td>911</td>\n",
       "      <td>2</td>\n",
       "      <td>0</td>\n",
       "      <td>1</td>\n",
       "      <td>4900000</td>\n",
       "      <td>13100000</td>\n",
       "      <td>18</td>\n",
       "      <td>754</td>\n",
       "      <td>8200000</td>\n",
       "      <td>3300000</td>\n",
       "      <td>16500000</td>\n",
       "      <td>7200000</td>\n",
       "    </tr>\n",
       "    <tr>\n",
       "      <th>567</th>\n",
       "      <td>568</td>\n",
       "      <td>5</td>\n",
       "      <td>0</td>\n",
       "      <td>1</td>\n",
       "      <td>3000000</td>\n",
       "      <td>11100000</td>\n",
       "      <td>12</td>\n",
       "      <td>441</td>\n",
       "      <td>8500000</td>\n",
       "      <td>2500000</td>\n",
       "      <td>7300000</td>\n",
       "      <td>2000000</td>\n",
       "    </tr>\n",
       "  </tbody>\n",
       "</table>\n",
       "</div>"
      ],
      "text/plain": [
       "      Loan_ID  No_of_Dependents  Education  Self_Employed  Annual_Income  \\\n",
       "1675     1676                 5          1              0        7900000   \n",
       "1164     1165                 0          1              1        9600000   \n",
       "192       193                 1          0              0         800000   \n",
       "910       911                 2          0              1        4900000   \n",
       "567       568                 5          0              1        3000000   \n",
       "\n",
       "      Loan_Amount  Loan_Term  CIBIL_Score  Residential_Assets_Value  \\\n",
       "1675     29900000          6          568                   5800000   \n",
       "1164     34000000         12          710                  23800000   \n",
       "192       2900000          8          682                   2200000   \n",
       "910      13100000         18          754                   8200000   \n",
       "567      11100000         12          441                   8500000   \n",
       "\n",
       "      Commercial_Assets_Value  Luxury_Assets_Value  Bank_Asset_Value  \n",
       "1675                 13900000             15900000           8700000  \n",
       "1164                 10300000             38100000           7800000  \n",
       "192                   1100000              2900000            700000  \n",
       "910                   3300000             16500000           7200000  \n",
       "567                   2500000              7300000           2000000  "
      ]
     },
     "execution_count": 49,
     "metadata": {},
     "output_type": "execute_result"
    }
   ],
   "source": [
    "(X_train).head()"
   ]
  },
  {
   "cell_type": "code",
   "execution_count": 50,
   "id": "fb72a0d6-1781-4237-8ca2-4b2bef081844",
   "metadata": {},
   "outputs": [
    {
     "data": {
      "text/html": [
       "<div>\n",
       "<style scoped>\n",
       "    .dataframe tbody tr th:only-of-type {\n",
       "        vertical-align: middle;\n",
       "    }\n",
       "\n",
       "    .dataframe tbody tr th {\n",
       "        vertical-align: top;\n",
       "    }\n",
       "\n",
       "    .dataframe thead th {\n",
       "        text-align: right;\n",
       "    }\n",
       "</style>\n",
       "<table border=\"1\" class=\"dataframe\">\n",
       "  <thead>\n",
       "    <tr style=\"text-align: right;\">\n",
       "      <th></th>\n",
       "      <th>Loan_ID</th>\n",
       "      <th>No_of_Dependents</th>\n",
       "      <th>Education</th>\n",
       "      <th>Self_Employed</th>\n",
       "      <th>Annual_Income</th>\n",
       "      <th>Loan_Amount</th>\n",
       "      <th>Loan_Term</th>\n",
       "      <th>CIBIL_Score</th>\n",
       "      <th>Residential_Assets_Value</th>\n",
       "      <th>Commercial_Assets_Value</th>\n",
       "      <th>Luxury_Assets_Value</th>\n",
       "      <th>Bank_Asset_Value</th>\n",
       "    </tr>\n",
       "  </thead>\n",
       "  <tbody>\n",
       "    <tr>\n",
       "      <th>1703</th>\n",
       "      <td>1704</td>\n",
       "      <td>5</td>\n",
       "      <td>0</td>\n",
       "      <td>0</td>\n",
       "      <td>5400000</td>\n",
       "      <td>19700000</td>\n",
       "      <td>20</td>\n",
       "      <td>423</td>\n",
       "      <td>6500000</td>\n",
       "      <td>10000000</td>\n",
       "      <td>15700000</td>\n",
       "      <td>7300000</td>\n",
       "    </tr>\n",
       "    <tr>\n",
       "      <th>1173</th>\n",
       "      <td>1174</td>\n",
       "      <td>2</td>\n",
       "      <td>0</td>\n",
       "      <td>0</td>\n",
       "      <td>5900000</td>\n",
       "      <td>14000000</td>\n",
       "      <td>8</td>\n",
       "      <td>599</td>\n",
       "      <td>4700000</td>\n",
       "      <td>9500000</td>\n",
       "      <td>17800000</td>\n",
       "      <td>6700000</td>\n",
       "    </tr>\n",
       "    <tr>\n",
       "      <th>308</th>\n",
       "      <td>309</td>\n",
       "      <td>3</td>\n",
       "      <td>0</td>\n",
       "      <td>0</td>\n",
       "      <td>9600000</td>\n",
       "      <td>19900000</td>\n",
       "      <td>14</td>\n",
       "      <td>452</td>\n",
       "      <td>4200000</td>\n",
       "      <td>16200000</td>\n",
       "      <td>28500000</td>\n",
       "      <td>6600000</td>\n",
       "    </tr>\n",
       "    <tr>\n",
       "      <th>1322</th>\n",
       "      <td>1323</td>\n",
       "      <td>2</td>\n",
       "      <td>0</td>\n",
       "      <td>0</td>\n",
       "      <td>6200000</td>\n",
       "      <td>23400000</td>\n",
       "      <td>8</td>\n",
       "      <td>605</td>\n",
       "      <td>10000000</td>\n",
       "      <td>10800000</td>\n",
       "      <td>21800000</td>\n",
       "      <td>9200000</td>\n",
       "    </tr>\n",
       "    <tr>\n",
       "      <th>3271</th>\n",
       "      <td>3272</td>\n",
       "      <td>3</td>\n",
       "      <td>1</td>\n",
       "      <td>1</td>\n",
       "      <td>5800000</td>\n",
       "      <td>14100000</td>\n",
       "      <td>12</td>\n",
       "      <td>738</td>\n",
       "      <td>11700000</td>\n",
       "      <td>4400000</td>\n",
       "      <td>15400000</td>\n",
       "      <td>8400000</td>\n",
       "    </tr>\n",
       "  </tbody>\n",
       "</table>\n",
       "</div>"
      ],
      "text/plain": [
       "      Loan_ID  No_of_Dependents  Education  Self_Employed  Annual_Income  \\\n",
       "1703     1704                 5          0              0        5400000   \n",
       "1173     1174                 2          0              0        5900000   \n",
       "308       309                 3          0              0        9600000   \n",
       "1322     1323                 2          0              0        6200000   \n",
       "3271     3272                 3          1              1        5800000   \n",
       "\n",
       "      Loan_Amount  Loan_Term  CIBIL_Score  Residential_Assets_Value  \\\n",
       "1703     19700000         20          423                   6500000   \n",
       "1173     14000000          8          599                   4700000   \n",
       "308      19900000         14          452                   4200000   \n",
       "1322     23400000          8          605                  10000000   \n",
       "3271     14100000         12          738                  11700000   \n",
       "\n",
       "      Commercial_Assets_Value  Luxury_Assets_Value  Bank_Asset_Value  \n",
       "1703                 10000000             15700000           7300000  \n",
       "1173                  9500000             17800000           6700000  \n",
       "308                  16200000             28500000           6600000  \n",
       "1322                 10800000             21800000           9200000  \n",
       "3271                  4400000             15400000           8400000  "
      ]
     },
     "execution_count": 50,
     "metadata": {},
     "output_type": "execute_result"
    }
   ],
   "source": [
    "(X_test).head()"
   ]
  },
  {
   "cell_type": "code",
   "execution_count": 51,
   "id": "b0c91c73-0010-4381-95ac-a2165de1d484",
   "metadata": {},
   "outputs": [
    {
     "name": "stdout",
     "output_type": "stream",
     "text": [
      "Train-Test Split Completed!\n",
      "Training Data: (3415, 12), Testing Data: (854, 12)\n"
     ]
    }
   ],
   "source": [
    "print(\"Train-Test Split Completed!\")\n",
    "print(f\"Training Data: {X_train.shape}, Testing Data: {X_test.shape}\")"
   ]
  },
  {
   "cell_type": "markdown",
   "id": "4ce6c8ac-0545-488d-8d21-420632458cff",
   "metadata": {},
   "source": [
    "# Train Model"
   ]
  },
  {
   "cell_type": "code",
   "execution_count": 52,
   "id": "552c9c84-4e1f-4ecb-a820-771737e59ed2",
   "metadata": {},
   "outputs": [
    {
     "name": "stdout",
     "output_type": "stream",
     "text": [
      "Logistic Regression Accuracy: 82.20140515222482\n"
     ]
    }
   ],
   "source": [
    "from sklearn.linear_model import LogisticRegression\n",
    "logistic_model = LogisticRegression(max_iter=1000, random_state=42)\n",
    "logistic_model.fit(X_train, y_train)\n",
    "y_pred = logistic_model.predict(X_test)\n",
    "print(\"Logistic Regression Accuracy:\", accuracy_score(y_test, y_pred) * 100)"
   ]
  },
  {
   "cell_type": "code",
   "execution_count": 53,
   "id": "ef8a547b-1e91-4543-acfd-9c821e6c0828",
   "metadata": {},
   "outputs": [
    {
     "name": "stdout",
     "output_type": "stream",
     "text": [
      "Random Forest Accuracy: 97.65807962529274\n"
     ]
    }
   ],
   "source": [
    "from sklearn.ensemble import RandomForestClassifier\n",
    "rf_model = RandomForestClassifier(n_estimators=100, random_state=42)\n",
    "rf_model.fit(X_train, y_train)\n",
    "y_pred = rf_model.predict(X_test)\n",
    "print(\"Random Forest Accuracy:\", accuracy_score(y_test, y_pred) * 100)"
   ]
  },
  {
   "cell_type": "code",
   "execution_count": 54,
   "id": "e6d5e8b9-2dca-42ee-b008-23d0c757d153",
   "metadata": {},
   "outputs": [
    {
     "name": "stdout",
     "output_type": "stream",
     "text": [
      "XGBoost Accuracy: 98.12646370023418\n"
     ]
    }
   ],
   "source": [
    "from xgboost import XGBClassifier\n",
    "xgb_model = XGBClassifier(n_estimators=100, random_state=42)\n",
    "xgb_model.fit(X_train, y_train)\n",
    "y_pred = xgb_model.predict(X_test)\n",
    "print(\"XGBoost Accuracy:\", accuracy_score(y_test, y_pred) * 100)\n"
   ]
  },
  {
   "cell_type": "markdown",
   "id": "6babfc3a-71f4-4d0a-9efc-dd9ac30c78ac",
   "metadata": {},
   "source": [
    "# Save the best Model"
   ]
  },
  {
   "cell_type": "code",
   "execution_count": 55,
   "id": "c4bba970-4990-4f62-bc48-d88e5ee9eca4",
   "metadata": {},
   "outputs": [
    {
     "name": "stdout",
     "output_type": "stream",
     "text": [
      "All models saved successfully!\n"
     ]
    }
   ],
   "source": [
    "import pickle\n",
    "\n",
    "# Save Logistic Regression model\n",
    "with open(\"logistic_model.pkl\", \"wb\") as file:\n",
    "    pickle.dump(logistic_model, file)\n",
    "\n",
    "# Save Random Forest model\n",
    "with open(\"random_forest.pkl\", \"wb\") as file:\n",
    "    pickle.dump(rf_model, file)\n",
    "\n",
    "# Save XGBoost model\n",
    "with open(\"xgboost.pkl\", \"wb\") as file:\n",
    "    pickle.dump(xgb_model, file)\n",
    "\n",
    "print(\"All models saved successfully!\")\n"
   ]
  },
  {
   "cell_type": "code",
   "execution_count": 57,
   "id": "add815d7-4bf6-49e6-a6d6-1f5f11128a66",
   "metadata": {},
   "outputs": [
    {
     "name": "stdout",
     "output_type": "stream",
     "text": [
      "\n",
      "=== Best Model ===\n",
      "Best Model: XGBoost\n",
      "Best Accuracy: 98.13%\n",
      "\n",
      "✅ Best model saved successfully as best_model.pkl!\n"
     ]
    }
   ],
   "source": [
    "import pickle\n",
    "from sklearn.metrics import accuracy_score\n",
    "\n",
    "# Store models in a dictionary\n",
    "models = {\n",
    "    \"Logistic Regression\": logistic_model,\n",
    "    \"Random Forest\": rf_model,\n",
    "    \"XGBoost\": xgb_model\n",
    "}\n",
    "\n",
    "# Evaluate models\n",
    "accuracies = {name: accuracy_score(y_test, model.predict(X_test)) * 100 for name, model in models.items()}\n",
    "\n",
    "# Find the best model\n",
    "best_model_name = max(accuracies, key=accuracies.get)\n",
    "best_model = models[best_model_name]\n",
    "best_accuracy = accuracies[best_model_name]\n",
    "\n",
    "# Print the best model and accuracy\n",
    "print(\"\\n=== Best Model ===\")\n",
    "print(f\"Best Model: {best_model_name}\")\n",
    "print(f\"Best Accuracy: {best_accuracy:.2f}%\")\n",
    "\n",
    "# Save the best model\n",
    "with open(\"best_model.pkl\", \"wb\") as file:\n",
    "    pickle.dump(best_model, file)\n",
    "\n",
    "print(\"\\n✅ Best model saved successfully as best_model.pkl!\")\n"
   ]
  },
  {
   "cell_type": "code",
   "execution_count": null,
   "id": "c368ccfd-18ce-4b04-8379-8385fca38986",
   "metadata": {},
   "outputs": [],
   "source": []
  }
 ],
 "metadata": {
  "kernelspec": {
   "display_name": "Python 3 (ipykernel)",
   "language": "python",
   "name": "python3"
  },
  "language_info": {
   "codemirror_mode": {
    "name": "ipython",
    "version": 3
   },
   "file_extension": ".py",
   "mimetype": "text/x-python",
   "name": "python",
   "nbconvert_exporter": "python",
   "pygments_lexer": "ipython3",
   "version": "3.12.4"
  }
 },
 "nbformat": 4,
 "nbformat_minor": 5
}
